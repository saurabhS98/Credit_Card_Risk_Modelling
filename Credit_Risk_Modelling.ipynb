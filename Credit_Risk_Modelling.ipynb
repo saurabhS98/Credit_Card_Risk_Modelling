{
  "nbformat": 4,
  "nbformat_minor": 0,
  "metadata": {
    "colab": {
      "provenance": []
    },
    "kernelspec": {
      "name": "python3",
      "display_name": "Python 3"
    },
    "language_info": {
      "name": "python"
    }
  },
  "cells": [
    {
      "cell_type": "code",
      "execution_count": 1,
      "metadata": {
        "id": "x4ni3Ga_UDNB"
      },
      "outputs": [],
      "source": [
        "import numpy as np\n",
        "import pandas as pd\n",
        "import matplotlib.pyplot as plt\n",
        "from sklearn.metrics import r2_score\n",
        "from scipy.stats import chi2_contingency\n",
        "from statsmodels.stats.outliers_influence import variance_inflation_factor\n",
        "from sklearn.model_selection import train_test_split\n",
        "from sklearn.ensemble import RandomForestClassifier\n",
        "from sklearn.metrics import accuracy_score, classification_report, precision_recall_fscore_support\n",
        "import warnings\n",
        "import os"
      ]
    },
    {
      "cell_type": "code",
      "source": [
        "a1 = pd.read_excel(\"/content/drive/MyDrive/Credit Risk Modelling/BOB_Data.xlsx\")\n",
        "a2 = pd.read_excel(\"/content/drive/MyDrive/Credit Risk Modelling/CIBIL Data.xlsx\")"
      ],
      "metadata": {
        "id": "QB4pqi7H3mUr"
      },
      "execution_count": 2,
      "outputs": []
    },
    {
      "cell_type": "code",
      "source": [
        "bank = a1.copy()\n",
        "cibil = a2.copy()"
      ],
      "metadata": {
        "id": "r0vNUr1h4BUD"
      },
      "execution_count": 3,
      "outputs": []
    },
    {
      "cell_type": "code",
      "source": [
        "# Shape of data set\n",
        "print(\"row and columns in bank data set: {}\".format(bank.shape))\n",
        "print(\"row and columns in cilbi data set: {}\".format(cibil.shape))"
      ],
      "metadata": {
        "colab": {
          "base_uri": "https://localhost:8080/"
        },
        "id": "K8j38GKBf9Up",
        "outputId": "3f50ad54-f660-4cd3-db5e-9b317b037435"
      },
      "execution_count": 4,
      "outputs": [
        {
          "output_type": "stream",
          "name": "stdout",
          "text": [
            "row and columns in bank data set: (51336, 26)\n",
            "row and columns in cilbi data set: (51336, 62)\n"
          ]
        }
      ]
    },
    {
      "cell_type": "code",
      "source": [
        "# -99999 will treated as null values in data\n",
        "# check how many records present in bank data as -99999\n",
        "boolean_df_1 = bank == -99999\n",
        "boolean_df_1.sum()"
      ],
      "metadata": {
        "colab": {
          "base_uri": "https://localhost:8080/"
        },
        "id": "uVSWKR5Mg1FL",
        "outputId": "c2cbfb66-86ba-4b9c-bfe8-ee566182f131"
      },
      "execution_count": 5,
      "outputs": [
        {
          "output_type": "execute_result",
          "data": {
            "text/plain": [
              "PROSPECTID               0\n",
              "Total_TL                 0\n",
              "Tot_Closed_TL            0\n",
              "Tot_Active_TL            0\n",
              "Total_TL_opened_L6M      0\n",
              "Tot_TL_closed_L6M        0\n",
              "pct_tl_open_L6M          0\n",
              "pct_tl_closed_L6M        0\n",
              "pct_active_tl            0\n",
              "pct_closed_tl            0\n",
              "Total_TL_opened_L12M     0\n",
              "Tot_TL_closed_L12M       0\n",
              "pct_tl_open_L12M         0\n",
              "pct_tl_closed_L12M       0\n",
              "Tot_Missed_Pmnt          0\n",
              "Auto_TL                  0\n",
              "CC_TL                    0\n",
              "Consumer_TL              0\n",
              "Gold_TL                  0\n",
              "Home_TL                  0\n",
              "PL_TL                    0\n",
              "Secured_TL               0\n",
              "Unsecured_TL             0\n",
              "Other_TL                 0\n",
              "Age_Oldest_TL           40\n",
              "Age_Newest_TL           40\n",
              "dtype: int64"
            ]
          },
          "metadata": {},
          "execution_count": 5
        }
      ]
    },
    {
      "cell_type": "code",
      "source": [
        "# removing null values\n",
        "bank = bank.loc[(bank['Age_Oldest_TL'] != -99999) & (bank['Age_Newest_TL'] != -99999) ]"
      ],
      "metadata": {
        "id": "DxvPp6Nn4O6s"
      },
      "execution_count": 6,
      "outputs": []
    },
    {
      "cell_type": "code",
      "source": [
        "# check how many records present in cibil data as -99999\n",
        "binary_df_2 = cibil == -99999\n",
        "binary_df_2.sum()"
      ],
      "metadata": {
        "colab": {
          "base_uri": "https://localhost:8080/"
        },
        "id": "xAc9imRvjG_h",
        "outputId": "afe06b03-8dd0-4af1-bae5-8b88fe688534"
      },
      "execution_count": 7,
      "outputs": [
        {
          "output_type": "execute_result",
          "data": {
            "text/plain": [
              "PROSPECTID                          0\n",
              "time_since_recent_payment        4291\n",
              "time_since_first_deliquency     35949\n",
              "time_since_recent_deliquency    35949\n",
              "num_times_delinquent                0\n",
              "                                ...  \n",
              "GL_Flag                             0\n",
              "last_prod_enq2                      0\n",
              "first_prod_enq2                     0\n",
              "Credit_Score                        0\n",
              "Approved_Flag                       0\n",
              "Length: 62, dtype: int64"
            ]
          },
          "metadata": {},
          "execution_count": 7
        }
      ]
    },
    {
      "cell_type": "code",
      "source": [
        "# remove column which have null values more than 20% of total data points (~50000)\n",
        "columns_to_be_removed = []\n",
        "\n",
        "for i in cibil.columns:\n",
        "    if cibil.loc[cibil[i] == -99999].shape[0] > 10000:\n",
        "        columns_to_be_removed .append(i)\n",
        "columns_to_be_removed"
      ],
      "metadata": {
        "id": "FOw_vZEe4Wco",
        "colab": {
          "base_uri": "https://localhost:8080/"
        },
        "outputId": "711f4a75-4a08-4c76-a82a-ef6e51dd082f"
      },
      "execution_count": 8,
      "outputs": [
        {
          "output_type": "execute_result",
          "data": {
            "text/plain": [
              "['time_since_first_deliquency',\n",
              " 'time_since_recent_deliquency',\n",
              " 'max_delinquency_level',\n",
              " 'max_deliq_6mts',\n",
              " 'max_deliq_12mts',\n",
              " 'CC_utilization',\n",
              " 'PL_utilization',\n",
              " 'max_unsec_exposure_inPct']"
            ]
          },
          "metadata": {},
          "execution_count": 8
        }
      ]
    },
    {
      "cell_type": "code",
      "source": [
        "cibil = cibil.drop(columns_to_be_removed, axis =1)"
      ],
      "metadata": {
        "id": "Qy9IQwEo4Zl1"
      },
      "execution_count": 9,
      "outputs": []
    },
    {
      "cell_type": "code",
      "source": [
        "# check how many total null values present after removing the columns:\n",
        "binary_df_2 = cibil == -99999\n",
        "binary_df_2['Total_null'] = binary_df_2.any(axis = 1)\n",
        "binary_df_2.sum()\n",
        "print(\"total null values after droping columns is :\", binary_df_2.sum().values[-1])\n"
      ],
      "metadata": {
        "colab": {
          "base_uri": "https://localhost:8080/"
        },
        "id": "qdtiW6t0kdL9",
        "outputId": "bdbe3e2b-68da-4679-ebd3-e19d321235a9"
      },
      "execution_count": 10,
      "outputs": [
        {
          "output_type": "stream",
          "name": "stdout",
          "text": [
            "total null values after droping columns is : 9270\n"
          ]
        }
      ]
    },
    {
      "cell_type": "code",
      "source": [
        "# now removing the null values rows from data:\n",
        "for i in cibil.columns:\n",
        "    cibil = cibil.loc[ cibil[i] != -99999 ]"
      ],
      "metadata": {
        "id": "aOrQ5wf14b1M"
      },
      "execution_count": 11,
      "outputs": []
    },
    {
      "cell_type": "code",
      "source": [
        "cibil.shape"
      ],
      "metadata": {
        "colab": {
          "base_uri": "https://localhost:8080/"
        },
        "id": "C-i9CqRwmGLq",
        "outputId": "02445e70-e2ce-4631-fccc-24b8aea116cc"
      },
      "execution_count": 12,
      "outputs": [
        {
          "output_type": "execute_result",
          "data": {
            "text/plain": [
              "(42066, 54)"
            ]
          },
          "metadata": {},
          "execution_count": 12
        }
      ]
    },
    {
      "cell_type": "code",
      "source": [
        "# Checking common column names\n",
        "for i in list(bank.columns):\n",
        "    if i in list(cibil.columns):\n",
        "        print (i)"
      ],
      "metadata": {
        "colab": {
          "base_uri": "https://localhost:8080/"
        },
        "id": "JrgyBMBj4eA0",
        "outputId": "abcb95a0-f8de-461e-d284-501b7e3301a8"
      },
      "execution_count": 13,
      "outputs": [
        {
          "output_type": "stream",
          "name": "stdout",
          "text": [
            "PROSPECTID\n"
          ]
        }
      ]
    },
    {
      "cell_type": "code",
      "source": [
        "# Merge the two dataframes, inner join so that no nulls are present\n",
        "final = pd.merge ( bank, cibil, how ='inner', left_on = ['PROSPECTID'], right_on = ['PROSPECTID'] )"
      ],
      "metadata": {
        "id": "_R5pArUB4idy"
      },
      "execution_count": 14,
      "outputs": []
    },
    {
      "cell_type": "code",
      "source": [
        "# check how many columns are categorical\n",
        "for i in final.columns:\n",
        "    if final[i].dtype == 'object':\n",
        "        print(i)"
      ],
      "metadata": {
        "colab": {
          "base_uri": "https://localhost:8080/"
        },
        "id": "q_locn6f4ll6",
        "outputId": "d843b1a0-a9a2-4b52-ed93-e1ead1ed6e7a"
      },
      "execution_count": 15,
      "outputs": [
        {
          "output_type": "stream",
          "name": "stdout",
          "text": [
            "MARITALSTATUS\n",
            "EDUCATION\n",
            "GENDER\n",
            "last_prod_enq2\n",
            "first_prod_enq2\n",
            "Approved_Flag\n"
          ]
        }
      ]
    },
    {
      "cell_type": "code",
      "source": [
        "# Chi-square test\n",
        "for i in ['MARITALSTATUS', 'EDUCATION', 'GENDER', 'last_prod_enq2', 'first_prod_enq2']:\n",
        "    chi2, pval, dof, expt_freq = chi2_contingency(pd.crosstab(final[i], final['Approved_Flag']))\n",
        "    print(i, '---', pval)"
      ],
      "metadata": {
        "colab": {
          "base_uri": "https://localhost:8080/"
        },
        "id": "hQ2ZNDXH4oPt",
        "outputId": "e5b45a20-59e4-4e7f-dc50-885af54d9f84"
      },
      "execution_count": 16,
      "outputs": [
        {
          "output_type": "stream",
          "name": "stdout",
          "text": [
            "MARITALSTATUS --- 3.578180861038862e-233\n",
            "EDUCATION --- 2.6942265249737532e-30\n",
            "GENDER --- 1.907936100186563e-05\n",
            "last_prod_enq2 --- 0.0\n",
            "first_prod_enq2 --- 7.84997610555419e-287\n"
          ]
        }
      ]
    },
    {
      "cell_type": "code",
      "source": [
        "# VIF for numerical columns to check multicolinearity\n",
        "numeric_columns = []\n",
        "for i in final.columns:\n",
        "    if final[i].dtype != 'object' and i not in ['PROSPECTID','Approved_Flag']:\n",
        "        numeric_columns.append(i)"
      ],
      "metadata": {
        "id": "GymdY7ic4q3f"
      },
      "execution_count": 17,
      "outputs": []
    },
    {
      "cell_type": "code",
      "source": [
        "# VIF sequentially check\n",
        "\n",
        "vif_data = final[numeric_columns]\n",
        "total_columns = vif_data.shape[1]\n",
        "columns_to_be_kept = []\n",
        "column_index = 0"
      ],
      "metadata": {
        "id": "wwuhRtKt4tHi"
      },
      "execution_count": 18,
      "outputs": []
    },
    {
      "cell_type": "code",
      "source": [
        "for i in range (0,total_columns):\n",
        "\n",
        "    vif_value = variance_inflation_factor(vif_data, column_index)\n",
        "    print (column_index,'---',vif_value)\n",
        "\n",
        "\n",
        "    if vif_value <= 6:\n",
        "        columns_to_be_kept.append( numeric_columns[i] )\n",
        "        column_index = column_index+1\n",
        "\n",
        "    else:\n",
        "        vif_data = vif_data.drop([ numeric_columns[i] ] , axis=1)"
      ],
      "metadata": {
        "colab": {
          "base_uri": "https://localhost:8080/"
        },
        "id": "EEXCAwt24vGW",
        "outputId": "fd6fe06c-4377-4af5-b14a-68857e22e959"
      },
      "execution_count": 19,
      "outputs": [
        {
          "output_type": "stream",
          "name": "stderr",
          "text": [
            "/usr/local/lib/python3.10/dist-packages/statsmodels/stats/outliers_influence.py:197: RuntimeWarning: divide by zero encountered in scalar divide\n",
            "  vif = 1. / (1. - r_squared_i)\n"
          ]
        },
        {
          "output_type": "stream",
          "name": "stdout",
          "text": [
            "0 --- inf\n"
          ]
        },
        {
          "output_type": "stream",
          "name": "stderr",
          "text": [
            "/usr/local/lib/python3.10/dist-packages/statsmodels/stats/outliers_influence.py:197: RuntimeWarning: divide by zero encountered in scalar divide\n",
            "  vif = 1. / (1. - r_squared_i)\n"
          ]
        },
        {
          "output_type": "stream",
          "name": "stdout",
          "text": [
            "0 --- inf\n",
            "0 --- 11.320180023967996\n",
            "0 --- 8.363698035000336\n",
            "0 --- 6.520647877790928\n",
            "0 --- 5.149501618212625\n",
            "1 --- 2.611111040579735\n"
          ]
        },
        {
          "output_type": "stream",
          "name": "stderr",
          "text": [
            "/usr/local/lib/python3.10/dist-packages/statsmodels/stats/outliers_influence.py:197: RuntimeWarning: divide by zero encountered in scalar divide\n",
            "  vif = 1. / (1. - r_squared_i)\n"
          ]
        },
        {
          "output_type": "stream",
          "name": "stdout",
          "text": [
            "2 --- inf\n",
            "2 --- 1788.7926256209232\n",
            "2 --- 8.601028256477228\n",
            "2 --- 3.832800792153077\n",
            "3 --- 6.099653381646723\n",
            "3 --- 5.581352009642766\n",
            "4 --- 1.985584353098778\n"
          ]
        },
        {
          "output_type": "stream",
          "name": "stderr",
          "text": [
            "/usr/local/lib/python3.10/dist-packages/statsmodels/stats/outliers_influence.py:197: RuntimeWarning: divide by zero encountered in scalar divide\n",
            "  vif = 1. / (1. - r_squared_i)\n"
          ]
        },
        {
          "output_type": "stream",
          "name": "stdout",
          "text": [
            "5 --- inf\n",
            "5 --- 4.80953830281934\n",
            "6 --- 23.270628983464636\n",
            "6 --- 30.595522588100053\n",
            "6 --- 4.384346405965583\n",
            "7 --- 3.0646584155234238\n",
            "8 --- 2.898639771299251\n",
            "9 --- 4.377876915347324\n",
            "10 --- 2.207853583695844\n",
            "11 --- 4.916914200506864\n",
            "12 --- 5.214702030064725\n",
            "13 --- 3.3861625024231476\n",
            "14 --- 7.840583309478997\n",
            "14 --- 5.255034641721434\n"
          ]
        },
        {
          "output_type": "stream",
          "name": "stderr",
          "text": [
            "/usr/local/lib/python3.10/dist-packages/statsmodels/stats/outliers_influence.py:197: RuntimeWarning: divide by zero encountered in scalar divide\n",
            "  vif = 1. / (1. - r_squared_i)\n"
          ]
        },
        {
          "output_type": "stream",
          "name": "stdout",
          "text": [
            "15 --- inf\n",
            "15 --- 7.380634506427238\n",
            "15 --- 1.4210050015175733\n",
            "16 --- 8.083255010190316\n",
            "16 --- 1.6241227524040114\n",
            "17 --- 7.257811920140003\n",
            "17 --- 15.59624383268298\n",
            "17 --- 1.825857047132431\n",
            "18 --- 1.5080839450032664\n",
            "19 --- 2.172088834824578\n",
            "20 --- 2.6233975535272274\n",
            "21 --- 2.2959970812106176\n",
            "22 --- 7.360578319196446\n",
            "22 --- 2.1602387773102567\n",
            "23 --- 2.8686288267891467\n",
            "24 --- 6.458218003637272\n",
            "24 --- 2.8474118865638247\n",
            "25 --- 4.753198156284083\n",
            "26 --- 16.22735475594825\n",
            "26 --- 6.424377256363877\n",
            "26 --- 8.887080381808678\n",
            "26 --- 2.3804746142952653\n",
            "27 --- 8.60951347651454\n",
            "27 --- 13.06755093547673\n",
            "27 --- 3.500040056654653\n",
            "28 --- 1.9087955874813773\n",
            "29 --- 17.006562234161628\n",
            "29 --- 10.730485153719197\n",
            "29 --- 2.3538497522950275\n",
            "30 --- 22.10485591513649\n",
            "30 --- 2.7971639638512924\n",
            "31 --- 3.424171203217696\n",
            "32 --- 10.175021454450922\n",
            "32 --- 6.408710354561292\n",
            "32 --- 1.001151196262563\n",
            "33 --- 3.069197305397273\n",
            "34 --- 2.8091261600643724\n",
            "35 --- 20.249538381980678\n",
            "35 --- 15.864576541593774\n",
            "35 --- 1.833164974053215\n",
            "36 --- 1.5680839909542046\n",
            "37 --- 1.9307572353811682\n",
            "38 --- 4.331265056645244\n",
            "39 --- 9.390334396150173\n"
          ]
        }
      ]
    },
    {
      "cell_type": "code",
      "source": [
        "# check Anova for columns_to_be_kept\n",
        "\n",
        "from scipy.stats import f_oneway\n",
        "\n",
        "columns_to_be_kept_numerical = []\n",
        "\n",
        "for i in columns_to_be_kept:\n",
        "    a = list(final[i])\n",
        "    b = list(final['Approved_Flag'])\n",
        "\n",
        "    group_P1 = [value for value, group in zip(a, b) if group == 'P1']\n",
        "    group_P2 = [value for value, group in zip(a, b) if group == 'P2']\n",
        "    group_P3 = [value for value, group in zip(a, b) if group == 'P3']\n",
        "    group_P4 = [value for value, group in zip(a, b) if group == 'P4']\n",
        "\n",
        "\n",
        "    f_statistic, p_value = f_oneway(group_P1, group_P2, group_P3, group_P4)\n",
        "\n",
        "    if p_value <= 0.05:\n",
        "        columns_to_be_kept_numerical.append(i)"
      ],
      "metadata": {
        "id": "iI-_l-tO42iL"
      },
      "execution_count": 20,
      "outputs": []
    },
    {
      "cell_type": "code",
      "source": [
        "# listing all the final features\n",
        "features = columns_to_be_kept_numerical + ['MARITALSTATUS', 'EDUCATION', 'GENDER', 'last_prod_enq2', 'first_prod_enq2']\n",
        "final = final[features + ['Approved_Flag']]"
      ],
      "metadata": {
        "id": "2b6OqosFKNn6"
      },
      "execution_count": 21,
      "outputs": []
    },
    {
      "cell_type": "code",
      "source": [
        "# Label encoding for the categorical features\n",
        "['MARITALSTATUS', 'EDUCATION', 'GENDER' , 'last_prod_enq2' ,'first_prod_enq2']"
      ],
      "metadata": {
        "colab": {
          "base_uri": "https://localhost:8080/"
        },
        "id": "yl3mrW97M1QC",
        "outputId": "f5a8f670-2adf-45e8-ff49-6ea199204121"
      },
      "execution_count": 22,
      "outputs": [
        {
          "output_type": "execute_result",
          "data": {
            "text/plain": [
              "['MARITALSTATUS', 'EDUCATION', 'GENDER', 'last_prod_enq2', 'first_prod_enq2']"
            ]
          },
          "metadata": {},
          "execution_count": 22
        }
      ]
    },
    {
      "cell_type": "code",
      "source": [
        "final.loc[final['EDUCATION'] == 'SSC',['EDUCATION']]              = 1\n",
        "final.loc[final['EDUCATION'] == '12TH',['EDUCATION']]             = 2\n",
        "final.loc[final['EDUCATION'] == 'GRADUATE',['EDUCATION']]         = 3\n",
        "final.loc[final['EDUCATION'] == 'UNDER GRADUATE',['EDUCATION']]   = 3\n",
        "final.loc[final['EDUCATION'] == 'POST-GRADUATE',['EDUCATION']]    = 4\n",
        "final.loc[final['EDUCATION'] == 'OTHERS',['EDUCATION']]           = 1\n",
        "final.loc[final['EDUCATION'] == 'PROFESSIONAL',['EDUCATION']]     = 3\n"
      ],
      "metadata": {
        "id": "KhU2OahVM8b9"
      },
      "execution_count": 23,
      "outputs": []
    },
    {
      "cell_type": "code",
      "source": [
        "# one hot encoding\n",
        "df_encoded = pd.get_dummies(final, columns=['MARITALSTATUS','GENDER', 'last_prod_enq2' ,'first_prod_enq2'])"
      ],
      "metadata": {
        "id": "vopAcj3ANO78"
      },
      "execution_count": 24,
      "outputs": []
    },
    {
      "cell_type": "code",
      "source": [
        "df_encoded.describe()"
      ],
      "metadata": {
        "colab": {
          "base_uri": "https://localhost:8080/",
          "height": 349
        },
        "id": "WVhv392aNdva",
        "outputId": "e7abb331-d347-4e92-ce88-ad3cb95a4b04"
      },
      "execution_count": 25,
      "outputs": [
        {
          "output_type": "execute_result",
          "data": {
            "text/plain": [
              "       pct_tl_open_L6M  pct_tl_closed_L6M  Tot_TL_closed_L12M  \\\n",
              "count     42064.000000       42064.000000        42064.000000   \n",
              "mean          0.179032           0.097783            0.825504   \n",
              "std           0.278043           0.210957            1.537208   \n",
              "min           0.000000           0.000000            0.000000   \n",
              "25%           0.000000           0.000000            0.000000   \n",
              "50%           0.000000           0.000000            0.000000   \n",
              "75%           0.333000           0.100000            1.000000   \n",
              "max           1.000000           1.000000           33.000000   \n",
              "\n",
              "       pct_tl_closed_L12M  Tot_Missed_Pmnt         CC_TL       Home_TL  \\\n",
              "count        42064.000000     42064.000000  42064.000000  42064.000000   \n",
              "mean             0.160365         0.525746      0.145921      0.076241   \n",
              "std              0.258831         1.106442      0.549314      0.358582   \n",
              "min              0.000000         0.000000      0.000000      0.000000   \n",
              "25%              0.000000         0.000000      0.000000      0.000000   \n",
              "50%              0.000000         0.000000      0.000000      0.000000   \n",
              "75%              0.250000         1.000000      0.000000      0.000000   \n",
              "max              1.000000        34.000000     27.000000     10.000000   \n",
              "\n",
              "              PL_TL    Secured_TL  Unsecured_TL  ...  time_since_recent_enq  \\\n",
              "count  42064.000000  42064.000000  42064.000000  ...           42064.000000   \n",
              "mean       0.328000      2.921334      2.341646  ...             264.854507   \n",
              "std        0.916368      6.379764      3.405397  ...             466.585002   \n",
              "min        0.000000      0.000000      0.000000  ...               0.000000   \n",
              "25%        0.000000      0.000000      0.000000  ...               9.000000   \n",
              "50%        0.000000      1.000000      1.000000  ...              79.000000   \n",
              "75%        0.000000      3.000000      3.000000  ...             302.000000   \n",
              "max       29.000000    235.000000     55.000000  ...            4768.000000   \n",
              "\n",
              "            enq_L3m  NETMONTHLYINCOME  Time_With_Curr_Empr       CC_Flag  \\\n",
              "count  42064.000000      4.206400e+04         42064.000000  42064.000000   \n",
              "mean       1.230458      2.692990e+04           110.345783      0.102962   \n",
              "std        2.069461      2.084300e+04            75.629967      0.303913   \n",
              "min        0.000000      0.000000e+00             0.000000      0.000000   \n",
              "25%        0.000000      1.800000e+04            61.000000      0.000000   \n",
              "50%        1.000000      2.400000e+04            92.000000      0.000000   \n",
              "75%        2.000000      3.100000e+04           131.000000      0.000000   \n",
              "max       42.000000      2.500000e+06          1020.000000      1.000000   \n",
              "\n",
              "            PL_Flag  pct_PL_enq_L6m_of_ever  pct_CC_enq_L6m_of_ever  \\\n",
              "count  42064.000000            42064.000000            42064.000000   \n",
              "mean       0.193063                0.195497                0.064186   \n",
              "std        0.394707                0.367414                0.225989   \n",
              "min        0.000000                0.000000                0.000000   \n",
              "25%        0.000000                0.000000                0.000000   \n",
              "50%        0.000000                0.000000                0.000000   \n",
              "75%        0.000000                0.000000                0.000000   \n",
              "max        1.000000                1.000000                1.000000   \n",
              "\n",
              "            HL_Flag       GL_Flag  \n",
              "count  42064.000000  42064.000000  \n",
              "mean       0.252235      0.056580  \n",
              "std        0.434300      0.231042  \n",
              "min        0.000000      0.000000  \n",
              "25%        0.000000      0.000000  \n",
              "50%        0.000000      0.000000  \n",
              "75%        1.000000      0.000000  \n",
              "max        1.000000      1.000000  \n",
              "\n",
              "[8 rows x 37 columns]"
            ],
            "text/html": [
              "\n",
              "  <div id=\"df-e7244b4d-3613-4b3a-9951-9f3791d6c138\" class=\"colab-df-container\">\n",
              "    <div>\n",
              "<style scoped>\n",
              "    .dataframe tbody tr th:only-of-type {\n",
              "        vertical-align: middle;\n",
              "    }\n",
              "\n",
              "    .dataframe tbody tr th {\n",
              "        vertical-align: top;\n",
              "    }\n",
              "\n",
              "    .dataframe thead th {\n",
              "        text-align: right;\n",
              "    }\n",
              "</style>\n",
              "<table border=\"1\" class=\"dataframe\">\n",
              "  <thead>\n",
              "    <tr style=\"text-align: right;\">\n",
              "      <th></th>\n",
              "      <th>pct_tl_open_L6M</th>\n",
              "      <th>pct_tl_closed_L6M</th>\n",
              "      <th>Tot_TL_closed_L12M</th>\n",
              "      <th>pct_tl_closed_L12M</th>\n",
              "      <th>Tot_Missed_Pmnt</th>\n",
              "      <th>CC_TL</th>\n",
              "      <th>Home_TL</th>\n",
              "      <th>PL_TL</th>\n",
              "      <th>Secured_TL</th>\n",
              "      <th>Unsecured_TL</th>\n",
              "      <th>...</th>\n",
              "      <th>time_since_recent_enq</th>\n",
              "      <th>enq_L3m</th>\n",
              "      <th>NETMONTHLYINCOME</th>\n",
              "      <th>Time_With_Curr_Empr</th>\n",
              "      <th>CC_Flag</th>\n",
              "      <th>PL_Flag</th>\n",
              "      <th>pct_PL_enq_L6m_of_ever</th>\n",
              "      <th>pct_CC_enq_L6m_of_ever</th>\n",
              "      <th>HL_Flag</th>\n",
              "      <th>GL_Flag</th>\n",
              "    </tr>\n",
              "  </thead>\n",
              "  <tbody>\n",
              "    <tr>\n",
              "      <th>count</th>\n",
              "      <td>42064.000000</td>\n",
              "      <td>42064.000000</td>\n",
              "      <td>42064.000000</td>\n",
              "      <td>42064.000000</td>\n",
              "      <td>42064.000000</td>\n",
              "      <td>42064.000000</td>\n",
              "      <td>42064.000000</td>\n",
              "      <td>42064.000000</td>\n",
              "      <td>42064.000000</td>\n",
              "      <td>42064.000000</td>\n",
              "      <td>...</td>\n",
              "      <td>42064.000000</td>\n",
              "      <td>42064.000000</td>\n",
              "      <td>4.206400e+04</td>\n",
              "      <td>42064.000000</td>\n",
              "      <td>42064.000000</td>\n",
              "      <td>42064.000000</td>\n",
              "      <td>42064.000000</td>\n",
              "      <td>42064.000000</td>\n",
              "      <td>42064.000000</td>\n",
              "      <td>42064.000000</td>\n",
              "    </tr>\n",
              "    <tr>\n",
              "      <th>mean</th>\n",
              "      <td>0.179032</td>\n",
              "      <td>0.097783</td>\n",
              "      <td>0.825504</td>\n",
              "      <td>0.160365</td>\n",
              "      <td>0.525746</td>\n",
              "      <td>0.145921</td>\n",
              "      <td>0.076241</td>\n",
              "      <td>0.328000</td>\n",
              "      <td>2.921334</td>\n",
              "      <td>2.341646</td>\n",
              "      <td>...</td>\n",
              "      <td>264.854507</td>\n",
              "      <td>1.230458</td>\n",
              "      <td>2.692990e+04</td>\n",
              "      <td>110.345783</td>\n",
              "      <td>0.102962</td>\n",
              "      <td>0.193063</td>\n",
              "      <td>0.195497</td>\n",
              "      <td>0.064186</td>\n",
              "      <td>0.252235</td>\n",
              "      <td>0.056580</td>\n",
              "    </tr>\n",
              "    <tr>\n",
              "      <th>std</th>\n",
              "      <td>0.278043</td>\n",
              "      <td>0.210957</td>\n",
              "      <td>1.537208</td>\n",
              "      <td>0.258831</td>\n",
              "      <td>1.106442</td>\n",
              "      <td>0.549314</td>\n",
              "      <td>0.358582</td>\n",
              "      <td>0.916368</td>\n",
              "      <td>6.379764</td>\n",
              "      <td>3.405397</td>\n",
              "      <td>...</td>\n",
              "      <td>466.585002</td>\n",
              "      <td>2.069461</td>\n",
              "      <td>2.084300e+04</td>\n",
              "      <td>75.629967</td>\n",
              "      <td>0.303913</td>\n",
              "      <td>0.394707</td>\n",
              "      <td>0.367414</td>\n",
              "      <td>0.225989</td>\n",
              "      <td>0.434300</td>\n",
              "      <td>0.231042</td>\n",
              "    </tr>\n",
              "    <tr>\n",
              "      <th>min</th>\n",
              "      <td>0.000000</td>\n",
              "      <td>0.000000</td>\n",
              "      <td>0.000000</td>\n",
              "      <td>0.000000</td>\n",
              "      <td>0.000000</td>\n",
              "      <td>0.000000</td>\n",
              "      <td>0.000000</td>\n",
              "      <td>0.000000</td>\n",
              "      <td>0.000000</td>\n",
              "      <td>0.000000</td>\n",
              "      <td>...</td>\n",
              "      <td>0.000000</td>\n",
              "      <td>0.000000</td>\n",
              "      <td>0.000000e+00</td>\n",
              "      <td>0.000000</td>\n",
              "      <td>0.000000</td>\n",
              "      <td>0.000000</td>\n",
              "      <td>0.000000</td>\n",
              "      <td>0.000000</td>\n",
              "      <td>0.000000</td>\n",
              "      <td>0.000000</td>\n",
              "    </tr>\n",
              "    <tr>\n",
              "      <th>25%</th>\n",
              "      <td>0.000000</td>\n",
              "      <td>0.000000</td>\n",
              "      <td>0.000000</td>\n",
              "      <td>0.000000</td>\n",
              "      <td>0.000000</td>\n",
              "      <td>0.000000</td>\n",
              "      <td>0.000000</td>\n",
              "      <td>0.000000</td>\n",
              "      <td>0.000000</td>\n",
              "      <td>0.000000</td>\n",
              "      <td>...</td>\n",
              "      <td>9.000000</td>\n",
              "      <td>0.000000</td>\n",
              "      <td>1.800000e+04</td>\n",
              "      <td>61.000000</td>\n",
              "      <td>0.000000</td>\n",
              "      <td>0.000000</td>\n",
              "      <td>0.000000</td>\n",
              "      <td>0.000000</td>\n",
              "      <td>0.000000</td>\n",
              "      <td>0.000000</td>\n",
              "    </tr>\n",
              "    <tr>\n",
              "      <th>50%</th>\n",
              "      <td>0.000000</td>\n",
              "      <td>0.000000</td>\n",
              "      <td>0.000000</td>\n",
              "      <td>0.000000</td>\n",
              "      <td>0.000000</td>\n",
              "      <td>0.000000</td>\n",
              "      <td>0.000000</td>\n",
              "      <td>0.000000</td>\n",
              "      <td>1.000000</td>\n",
              "      <td>1.000000</td>\n",
              "      <td>...</td>\n",
              "      <td>79.000000</td>\n",
              "      <td>1.000000</td>\n",
              "      <td>2.400000e+04</td>\n",
              "      <td>92.000000</td>\n",
              "      <td>0.000000</td>\n",
              "      <td>0.000000</td>\n",
              "      <td>0.000000</td>\n",
              "      <td>0.000000</td>\n",
              "      <td>0.000000</td>\n",
              "      <td>0.000000</td>\n",
              "    </tr>\n",
              "    <tr>\n",
              "      <th>75%</th>\n",
              "      <td>0.333000</td>\n",
              "      <td>0.100000</td>\n",
              "      <td>1.000000</td>\n",
              "      <td>0.250000</td>\n",
              "      <td>1.000000</td>\n",
              "      <td>0.000000</td>\n",
              "      <td>0.000000</td>\n",
              "      <td>0.000000</td>\n",
              "      <td>3.000000</td>\n",
              "      <td>3.000000</td>\n",
              "      <td>...</td>\n",
              "      <td>302.000000</td>\n",
              "      <td>2.000000</td>\n",
              "      <td>3.100000e+04</td>\n",
              "      <td>131.000000</td>\n",
              "      <td>0.000000</td>\n",
              "      <td>0.000000</td>\n",
              "      <td>0.000000</td>\n",
              "      <td>0.000000</td>\n",
              "      <td>1.000000</td>\n",
              "      <td>0.000000</td>\n",
              "    </tr>\n",
              "    <tr>\n",
              "      <th>max</th>\n",
              "      <td>1.000000</td>\n",
              "      <td>1.000000</td>\n",
              "      <td>33.000000</td>\n",
              "      <td>1.000000</td>\n",
              "      <td>34.000000</td>\n",
              "      <td>27.000000</td>\n",
              "      <td>10.000000</td>\n",
              "      <td>29.000000</td>\n",
              "      <td>235.000000</td>\n",
              "      <td>55.000000</td>\n",
              "      <td>...</td>\n",
              "      <td>4768.000000</td>\n",
              "      <td>42.000000</td>\n",
              "      <td>2.500000e+06</td>\n",
              "      <td>1020.000000</td>\n",
              "      <td>1.000000</td>\n",
              "      <td>1.000000</td>\n",
              "      <td>1.000000</td>\n",
              "      <td>1.000000</td>\n",
              "      <td>1.000000</td>\n",
              "      <td>1.000000</td>\n",
              "    </tr>\n",
              "  </tbody>\n",
              "</table>\n",
              "<p>8 rows × 37 columns</p>\n",
              "</div>\n",
              "    <div class=\"colab-df-buttons\">\n",
              "\n",
              "  <div class=\"colab-df-container\">\n",
              "    <button class=\"colab-df-convert\" onclick=\"convertToInteractive('df-e7244b4d-3613-4b3a-9951-9f3791d6c138')\"\n",
              "            title=\"Convert this dataframe to an interactive table.\"\n",
              "            style=\"display:none;\">\n",
              "\n",
              "  <svg xmlns=\"http://www.w3.org/2000/svg\" height=\"24px\" viewBox=\"0 -960 960 960\">\n",
              "    <path d=\"M120-120v-720h720v720H120Zm60-500h600v-160H180v160Zm220 220h160v-160H400v160Zm0 220h160v-160H400v160ZM180-400h160v-160H180v160Zm440 0h160v-160H620v160ZM180-180h160v-160H180v160Zm440 0h160v-160H620v160Z\"/>\n",
              "  </svg>\n",
              "    </button>\n",
              "\n",
              "  <style>\n",
              "    .colab-df-container {\n",
              "      display:flex;\n",
              "      gap: 12px;\n",
              "    }\n",
              "\n",
              "    .colab-df-convert {\n",
              "      background-color: #E8F0FE;\n",
              "      border: none;\n",
              "      border-radius: 50%;\n",
              "      cursor: pointer;\n",
              "      display: none;\n",
              "      fill: #1967D2;\n",
              "      height: 32px;\n",
              "      padding: 0 0 0 0;\n",
              "      width: 32px;\n",
              "    }\n",
              "\n",
              "    .colab-df-convert:hover {\n",
              "      background-color: #E2EBFA;\n",
              "      box-shadow: 0px 1px 2px rgba(60, 64, 67, 0.3), 0px 1px 3px 1px rgba(60, 64, 67, 0.15);\n",
              "      fill: #174EA6;\n",
              "    }\n",
              "\n",
              "    .colab-df-buttons div {\n",
              "      margin-bottom: 4px;\n",
              "    }\n",
              "\n",
              "    [theme=dark] .colab-df-convert {\n",
              "      background-color: #3B4455;\n",
              "      fill: #D2E3FC;\n",
              "    }\n",
              "\n",
              "    [theme=dark] .colab-df-convert:hover {\n",
              "      background-color: #434B5C;\n",
              "      box-shadow: 0px 1px 3px 1px rgba(0, 0, 0, 0.15);\n",
              "      filter: drop-shadow(0px 1px 2px rgba(0, 0, 0, 0.3));\n",
              "      fill: #FFFFFF;\n",
              "    }\n",
              "  </style>\n",
              "\n",
              "    <script>\n",
              "      const buttonEl =\n",
              "        document.querySelector('#df-e7244b4d-3613-4b3a-9951-9f3791d6c138 button.colab-df-convert');\n",
              "      buttonEl.style.display =\n",
              "        google.colab.kernel.accessAllowed ? 'block' : 'none';\n",
              "\n",
              "      async function convertToInteractive(key) {\n",
              "        const element = document.querySelector('#df-e7244b4d-3613-4b3a-9951-9f3791d6c138');\n",
              "        const dataTable =\n",
              "          await google.colab.kernel.invokeFunction('convertToInteractive',\n",
              "                                                    [key], {});\n",
              "        if (!dataTable) return;\n",
              "\n",
              "        const docLinkHtml = 'Like what you see? Visit the ' +\n",
              "          '<a target=\"_blank\" href=https://colab.research.google.com/notebooks/data_table.ipynb>data table notebook</a>'\n",
              "          + ' to learn more about interactive tables.';\n",
              "        element.innerHTML = '';\n",
              "        dataTable['output_type'] = 'display_data';\n",
              "        await google.colab.output.renderOutput(dataTable, element);\n",
              "        const docLink = document.createElement('div');\n",
              "        docLink.innerHTML = docLinkHtml;\n",
              "        element.appendChild(docLink);\n",
              "      }\n",
              "    </script>\n",
              "  </div>\n",
              "\n",
              "\n",
              "<div id=\"df-5bee7600-c9c8-4c01-9d6a-1ada6b99423d\">\n",
              "  <button class=\"colab-df-quickchart\" onclick=\"quickchart('df-5bee7600-c9c8-4c01-9d6a-1ada6b99423d')\"\n",
              "            title=\"Suggest charts\"\n",
              "            style=\"display:none;\">\n",
              "\n",
              "<svg xmlns=\"http://www.w3.org/2000/svg\" height=\"24px\"viewBox=\"0 0 24 24\"\n",
              "     width=\"24px\">\n",
              "    <g>\n",
              "        <path d=\"M19 3H5c-1.1 0-2 .9-2 2v14c0 1.1.9 2 2 2h14c1.1 0 2-.9 2-2V5c0-1.1-.9-2-2-2zM9 17H7v-7h2v7zm4 0h-2V7h2v10zm4 0h-2v-4h2v4z\"/>\n",
              "    </g>\n",
              "</svg>\n",
              "  </button>\n",
              "\n",
              "<style>\n",
              "  .colab-df-quickchart {\n",
              "      --bg-color: #E8F0FE;\n",
              "      --fill-color: #1967D2;\n",
              "      --hover-bg-color: #E2EBFA;\n",
              "      --hover-fill-color: #174EA6;\n",
              "      --disabled-fill-color: #AAA;\n",
              "      --disabled-bg-color: #DDD;\n",
              "  }\n",
              "\n",
              "  [theme=dark] .colab-df-quickchart {\n",
              "      --bg-color: #3B4455;\n",
              "      --fill-color: #D2E3FC;\n",
              "      --hover-bg-color: #434B5C;\n",
              "      --hover-fill-color: #FFFFFF;\n",
              "      --disabled-bg-color: #3B4455;\n",
              "      --disabled-fill-color: #666;\n",
              "  }\n",
              "\n",
              "  .colab-df-quickchart {\n",
              "    background-color: var(--bg-color);\n",
              "    border: none;\n",
              "    border-radius: 50%;\n",
              "    cursor: pointer;\n",
              "    display: none;\n",
              "    fill: var(--fill-color);\n",
              "    height: 32px;\n",
              "    padding: 0;\n",
              "    width: 32px;\n",
              "  }\n",
              "\n",
              "  .colab-df-quickchart:hover {\n",
              "    background-color: var(--hover-bg-color);\n",
              "    box-shadow: 0 1px 2px rgba(60, 64, 67, 0.3), 0 1px 3px 1px rgba(60, 64, 67, 0.15);\n",
              "    fill: var(--button-hover-fill-color);\n",
              "  }\n",
              "\n",
              "  .colab-df-quickchart-complete:disabled,\n",
              "  .colab-df-quickchart-complete:disabled:hover {\n",
              "    background-color: var(--disabled-bg-color);\n",
              "    fill: var(--disabled-fill-color);\n",
              "    box-shadow: none;\n",
              "  }\n",
              "\n",
              "  .colab-df-spinner {\n",
              "    border: 2px solid var(--fill-color);\n",
              "    border-color: transparent;\n",
              "    border-bottom-color: var(--fill-color);\n",
              "    animation:\n",
              "      spin 1s steps(1) infinite;\n",
              "  }\n",
              "\n",
              "  @keyframes spin {\n",
              "    0% {\n",
              "      border-color: transparent;\n",
              "      border-bottom-color: var(--fill-color);\n",
              "      border-left-color: var(--fill-color);\n",
              "    }\n",
              "    20% {\n",
              "      border-color: transparent;\n",
              "      border-left-color: var(--fill-color);\n",
              "      border-top-color: var(--fill-color);\n",
              "    }\n",
              "    30% {\n",
              "      border-color: transparent;\n",
              "      border-left-color: var(--fill-color);\n",
              "      border-top-color: var(--fill-color);\n",
              "      border-right-color: var(--fill-color);\n",
              "    }\n",
              "    40% {\n",
              "      border-color: transparent;\n",
              "      border-right-color: var(--fill-color);\n",
              "      border-top-color: var(--fill-color);\n",
              "    }\n",
              "    60% {\n",
              "      border-color: transparent;\n",
              "      border-right-color: var(--fill-color);\n",
              "    }\n",
              "    80% {\n",
              "      border-color: transparent;\n",
              "      border-right-color: var(--fill-color);\n",
              "      border-bottom-color: var(--fill-color);\n",
              "    }\n",
              "    90% {\n",
              "      border-color: transparent;\n",
              "      border-bottom-color: var(--fill-color);\n",
              "    }\n",
              "  }\n",
              "</style>\n",
              "\n",
              "  <script>\n",
              "    async function quickchart(key) {\n",
              "      const quickchartButtonEl =\n",
              "        document.querySelector('#' + key + ' button');\n",
              "      quickchartButtonEl.disabled = true;  // To prevent multiple clicks.\n",
              "      quickchartButtonEl.classList.add('colab-df-spinner');\n",
              "      try {\n",
              "        const charts = await google.colab.kernel.invokeFunction(\n",
              "            'suggestCharts', [key], {});\n",
              "      } catch (error) {\n",
              "        console.error('Error during call to suggestCharts:', error);\n",
              "      }\n",
              "      quickchartButtonEl.classList.remove('colab-df-spinner');\n",
              "      quickchartButtonEl.classList.add('colab-df-quickchart-complete');\n",
              "    }\n",
              "    (() => {\n",
              "      let quickchartButtonEl =\n",
              "        document.querySelector('#df-5bee7600-c9c8-4c01-9d6a-1ada6b99423d button');\n",
              "      quickchartButtonEl.style.display =\n",
              "        google.colab.kernel.accessAllowed ? 'block' : 'none';\n",
              "    })();\n",
              "  </script>\n",
              "</div>\n",
              "\n",
              "    </div>\n",
              "  </div>\n"
            ],
            "application/vnd.google.colaboratory.intrinsic+json": {
              "type": "dataframe"
            }
          },
          "metadata": {},
          "execution_count": 25
        }
      ]
    },
    {
      "cell_type": "markdown",
      "source": [
        "## Machine Learning Model"
      ],
      "metadata": {
        "id": "EgHjZ9aQNpO8"
      }
    },
    {
      "cell_type": "markdown",
      "source": [
        "### Decision Tree"
      ],
      "metadata": {
        "id": "yScwGRPhNvE2"
      }
    },
    {
      "cell_type": "code",
      "source": [
        "y = df_encoded['Approved_Flag']\n",
        "x = df_encoded. drop ( ['Approved_Flag'], axis = 1 )"
      ],
      "metadata": {
        "id": "eAQPSpU5Owwy"
      },
      "execution_count": 26,
      "outputs": []
    },
    {
      "cell_type": "code",
      "source": [
        "x_train, x_test, y_train, y_test = train_test_split(x, y, test_size=0.2, random_state=42)"
      ],
      "metadata": {
        "id": "aR1llqECPY2i"
      },
      "execution_count": 27,
      "outputs": []
    },
    {
      "cell_type": "code",
      "source": [
        "from sklearn.tree import DecisionTreeClassifier"
      ],
      "metadata": {
        "id": "UXSLD9PUPo-t"
      },
      "execution_count": 28,
      "outputs": []
    },
    {
      "cell_type": "code",
      "source": [
        "dt_model = DecisionTreeClassifier(max_depth=20, min_samples_split=10)\n",
        "dt_model.fit(x_train, y_train)\n",
        "y_pred = dt_model.predict(x_test)"
      ],
      "metadata": {
        "id": "lSwKbjCnPvro"
      },
      "execution_count": 29,
      "outputs": []
    },
    {
      "cell_type": "code",
      "source": [
        "accuracy = accuracy_score(y_test, y_pred)\n",
        "print ()\n",
        "print(f\"Accuracy: {accuracy:.2f}\")\n",
        "print ()\n",
        "\n",
        "precision, recall, f1_score, _ = precision_recall_fscore_support(y_test, y_pred)\n",
        "\n",
        "for i, v in enumerate(['p1', 'p2', 'p3', 'p4']):\n",
        "    print(f\"Class {v}:\")\n",
        "    print(f\"Precision: {precision[i]}\")\n",
        "    print(f\"Recall: {recall[i]}\")\n",
        "    print(f\"F1 Score: {f1_score[i]}\")\n",
        "    print()"
      ],
      "metadata": {
        "colab": {
          "base_uri": "https://localhost:8080/"
        },
        "id": "WULmgAqWQMK9",
        "outputId": "ec605d4b-72b0-4d58-b58c-54c8b469c1d8"
      },
      "execution_count": 30,
      "outputs": [
        {
          "output_type": "stream",
          "name": "stdout",
          "text": [
            "\n",
            "Accuracy: 0.71\n",
            "\n",
            "Class p1:\n",
            "Precision: 0.7238001958863859\n",
            "Recall: 0.7287968441814595\n",
            "F1 Score: 0.7262899262899263\n",
            "\n",
            "Class p2:\n",
            "Precision: 0.8081632653061225\n",
            "Recall: 0.8241823587710605\n",
            "F1 Score: 0.8160942100098135\n",
            "\n",
            "Class p3:\n",
            "Precision: 0.33974358974358976\n",
            "Recall: 0.32\n",
            "F1 Score: 0.3295763699961135\n",
            "\n",
            "Class p4:\n",
            "Precision: 0.6476476476476476\n",
            "Recall: 0.6287657920310982\n",
            "F1 Score: 0.6380670611439843\n",
            "\n"
          ]
        }
      ]
    },
    {
      "cell_type": "markdown",
      "source": [
        "### Random Forest"
      ],
      "metadata": {
        "id": "dFN80QLzQWFX"
      }
    },
    {
      "cell_type": "code",
      "source": [
        "rf_classifier = RandomForestClassifier(n_estimators = 200, random_state=42)"
      ],
      "metadata": {
        "id": "JlYpnB7gQU3A"
      },
      "execution_count": 31,
      "outputs": []
    },
    {
      "cell_type": "code",
      "source": [
        "rf_classifier.fit(x_train, y_train)"
      ],
      "metadata": {
        "colab": {
          "base_uri": "https://localhost:8080/",
          "height": 74
        },
        "id": "5tguAoQ-QtOh",
        "outputId": "e8a525a3-d459-48dd-c94c-69f48719e34f"
      },
      "execution_count": 32,
      "outputs": [
        {
          "output_type": "execute_result",
          "data": {
            "text/plain": [
              "RandomForestClassifier(n_estimators=200, random_state=42)"
            ],
            "text/html": [
              "<style>#sk-container-id-1 {color: black;background-color: white;}#sk-container-id-1 pre{padding: 0;}#sk-container-id-1 div.sk-toggleable {background-color: white;}#sk-container-id-1 label.sk-toggleable__label {cursor: pointer;display: block;width: 100%;margin-bottom: 0;padding: 0.3em;box-sizing: border-box;text-align: center;}#sk-container-id-1 label.sk-toggleable__label-arrow:before {content: \"▸\";float: left;margin-right: 0.25em;color: #696969;}#sk-container-id-1 label.sk-toggleable__label-arrow:hover:before {color: black;}#sk-container-id-1 div.sk-estimator:hover label.sk-toggleable__label-arrow:before {color: black;}#sk-container-id-1 div.sk-toggleable__content {max-height: 0;max-width: 0;overflow: hidden;text-align: left;background-color: #f0f8ff;}#sk-container-id-1 div.sk-toggleable__content pre {margin: 0.2em;color: black;border-radius: 0.25em;background-color: #f0f8ff;}#sk-container-id-1 input.sk-toggleable__control:checked~div.sk-toggleable__content {max-height: 200px;max-width: 100%;overflow: auto;}#sk-container-id-1 input.sk-toggleable__control:checked~label.sk-toggleable__label-arrow:before {content: \"▾\";}#sk-container-id-1 div.sk-estimator input.sk-toggleable__control:checked~label.sk-toggleable__label {background-color: #d4ebff;}#sk-container-id-1 div.sk-label input.sk-toggleable__control:checked~label.sk-toggleable__label {background-color: #d4ebff;}#sk-container-id-1 input.sk-hidden--visually {border: 0;clip: rect(1px 1px 1px 1px);clip: rect(1px, 1px, 1px, 1px);height: 1px;margin: -1px;overflow: hidden;padding: 0;position: absolute;width: 1px;}#sk-container-id-1 div.sk-estimator {font-family: monospace;background-color: #f0f8ff;border: 1px dotted black;border-radius: 0.25em;box-sizing: border-box;margin-bottom: 0.5em;}#sk-container-id-1 div.sk-estimator:hover {background-color: #d4ebff;}#sk-container-id-1 div.sk-parallel-item::after {content: \"\";width: 100%;border-bottom: 1px solid gray;flex-grow: 1;}#sk-container-id-1 div.sk-label:hover label.sk-toggleable__label {background-color: #d4ebff;}#sk-container-id-1 div.sk-serial::before {content: \"\";position: absolute;border-left: 1px solid gray;box-sizing: border-box;top: 0;bottom: 0;left: 50%;z-index: 0;}#sk-container-id-1 div.sk-serial {display: flex;flex-direction: column;align-items: center;background-color: white;padding-right: 0.2em;padding-left: 0.2em;position: relative;}#sk-container-id-1 div.sk-item {position: relative;z-index: 1;}#sk-container-id-1 div.sk-parallel {display: flex;align-items: stretch;justify-content: center;background-color: white;position: relative;}#sk-container-id-1 div.sk-item::before, #sk-container-id-1 div.sk-parallel-item::before {content: \"\";position: absolute;border-left: 1px solid gray;box-sizing: border-box;top: 0;bottom: 0;left: 50%;z-index: -1;}#sk-container-id-1 div.sk-parallel-item {display: flex;flex-direction: column;z-index: 1;position: relative;background-color: white;}#sk-container-id-1 div.sk-parallel-item:first-child::after {align-self: flex-end;width: 50%;}#sk-container-id-1 div.sk-parallel-item:last-child::after {align-self: flex-start;width: 50%;}#sk-container-id-1 div.sk-parallel-item:only-child::after {width: 0;}#sk-container-id-1 div.sk-dashed-wrapped {border: 1px dashed gray;margin: 0 0.4em 0.5em 0.4em;box-sizing: border-box;padding-bottom: 0.4em;background-color: white;}#sk-container-id-1 div.sk-label label {font-family: monospace;font-weight: bold;display: inline-block;line-height: 1.2em;}#sk-container-id-1 div.sk-label-container {text-align: center;}#sk-container-id-1 div.sk-container {/* jupyter's `normalize.less` sets `[hidden] { display: none; }` but bootstrap.min.css set `[hidden] { display: none !important; }` so we also need the `!important` here to be able to override the default hidden behavior on the sphinx rendered scikit-learn.org. See: https://github.com/scikit-learn/scikit-learn/issues/21755 */display: inline-block !important;position: relative;}#sk-container-id-1 div.sk-text-repr-fallback {display: none;}</style><div id=\"sk-container-id-1\" class=\"sk-top-container\"><div class=\"sk-text-repr-fallback\"><pre>RandomForestClassifier(n_estimators=200, random_state=42)</pre><b>In a Jupyter environment, please rerun this cell to show the HTML representation or trust the notebook. <br />On GitHub, the HTML representation is unable to render, please try loading this page with nbviewer.org.</b></div><div class=\"sk-container\" hidden><div class=\"sk-item\"><div class=\"sk-estimator sk-toggleable\"><input class=\"sk-toggleable__control sk-hidden--visually\" id=\"sk-estimator-id-1\" type=\"checkbox\" checked><label for=\"sk-estimator-id-1\" class=\"sk-toggleable__label sk-toggleable__label-arrow\">RandomForestClassifier</label><div class=\"sk-toggleable__content\"><pre>RandomForestClassifier(n_estimators=200, random_state=42)</pre></div></div></div></div></div>"
            ]
          },
          "metadata": {},
          "execution_count": 32
        }
      ]
    },
    {
      "cell_type": "code",
      "source": [
        "y_pred = rf_classifier.predict(x_test)"
      ],
      "metadata": {
        "id": "x97auJn9QxkH"
      },
      "execution_count": 33,
      "outputs": []
    },
    {
      "cell_type": "code",
      "source": [
        "accuracy = accuracy_score(y_test, y_pred)\n",
        "print ()\n",
        "print(f'Accuracy: {accuracy}')\n",
        "print ()\n",
        "precision, recall, f1_score, _ = precision_recall_fscore_support(y_test, y_pred)\n",
        "\n",
        "\n",
        "for i, v in enumerate(['p1', 'p2', 'p3', 'p4']):\n",
        "    print(f\"Class {v}:\")\n",
        "    print(f\"Precision: {precision[i]}\")\n",
        "    print(f\"Recall: {recall[i]}\")\n",
        "    print(f\"F1 Score: {f1_score[i]}\")\n",
        "    print()"
      ],
      "metadata": {
        "colab": {
          "base_uri": "https://localhost:8080/"
        },
        "id": "UPjnffEoQ0ys",
        "outputId": "b2c88daa-05b7-4faa-8355-52543f3b654a"
      },
      "execution_count": 34,
      "outputs": [
        {
          "output_type": "stream",
          "name": "stdout",
          "text": [
            "\n",
            "Accuracy: 0.7636990372043266\n",
            "\n",
            "Class p1:\n",
            "Precision: 0.8370457209847597\n",
            "Recall: 0.7041420118343196\n",
            "F1 Score: 0.7648634172469203\n",
            "\n",
            "Class p2:\n",
            "Precision: 0.7957519116397621\n",
            "Recall: 0.9282457879088206\n",
            "F1 Score: 0.8569075937785909\n",
            "\n",
            "Class p3:\n",
            "Precision: 0.4423380726698262\n",
            "Recall: 0.21132075471698114\n",
            "F1 Score: 0.28600612870275793\n",
            "\n",
            "Class p4:\n",
            "Precision: 0.7178502879078695\n",
            "Recall: 0.7269193391642371\n",
            "F1 Score: 0.7223563495895703\n",
            "\n"
          ]
        }
      ]
    },
    {
      "cell_type": "markdown",
      "source": [
        "### Xgboost"
      ],
      "metadata": {
        "id": "o8toO4-oRDCC"
      }
    },
    {
      "cell_type": "code",
      "source": [
        "import xgboost as xgb\n",
        "from sklearn.preprocessing import LabelEncoder"
      ],
      "metadata": {
        "id": "XF8lsIacRCUM"
      },
      "execution_count": 35,
      "outputs": []
    },
    {
      "cell_type": "code",
      "source": [
        "xgb_classifier = xgb.XGBClassifier(objective='multi:softmax',  num_class=4, enable_categorical=True)"
      ],
      "metadata": {
        "id": "-oQdSD1VRJHz"
      },
      "execution_count": 45,
      "outputs": []
    },
    {
      "cell_type": "code",
      "source": [
        "y = df_encoded['Approved_Flag']\n",
        "x = df_encoded. drop ( ['Approved_Flag'], axis = 1 )"
      ],
      "metadata": {
        "id": "gc3GDXjFR-yN"
      },
      "execution_count": 37,
      "outputs": []
    },
    {
      "cell_type": "code",
      "source": [
        "label_encoder = LabelEncoder()\n",
        "y_encoded = label_encoder.fit_transform(y)"
      ],
      "metadata": {
        "id": "XLhNb3LmR8IV"
      },
      "execution_count": 38,
      "outputs": []
    },
    {
      "cell_type": "code",
      "source": [
        "x_train, x_test, y_train, y_test = train_test_split(x, y_encoded, test_size=0.2, random_state=42)"
      ],
      "metadata": {
        "id": "UPFcm8-QRY_Z"
      },
      "execution_count": 39,
      "outputs": []
    },
    {
      "cell_type": "code",
      "source": [
        "x_train['EDUCATION'] = x_train['EDUCATION'].astype('category')\n",
        "x_test['EDUCATION'] = x_test['EDUCATION'].astype('category')"
      ],
      "metadata": {
        "id": "g0e8asYjUqpf"
      },
      "execution_count": 53,
      "outputs": []
    },
    {
      "cell_type": "code",
      "source": [
        "xgb_classifier.fit(x_train, y_train)\n",
        "y_pred = xgb_classifier.predict(x_test)"
      ],
      "metadata": {
        "id": "kWOtndC3RP9E"
      },
      "execution_count": 54,
      "outputs": []
    },
    {
      "cell_type": "code",
      "source": [
        "accuracy = accuracy_score(y_test, y_pred)\n",
        "print ()\n",
        "print(f'Accuracy: {accuracy:.2f}')\n",
        "print ()\n",
        "\n",
        "precision, recall, f1_score, _ = precision_recall_fscore_support(y_test, y_pred)\n",
        "\n",
        "for i, v in enumerate(['p1', 'p2', 'p3', 'p4']):\n",
        "    print(f\"Class {v}:\")\n",
        "    print(f\"Precision: {precision[i]}\")\n",
        "    print(f\"Recall: {recall[i]}\")\n",
        "    print(f\"F1 Score: {f1_score[i]}\")\n",
        "    print()"
      ],
      "metadata": {
        "colab": {
          "base_uri": "https://localhost:8080/"
        },
        "id": "JVApH2iGShpM",
        "outputId": "2dc02db0-2023-4952-ca69-5d3040ee5a3b"
      },
      "execution_count": 55,
      "outputs": [
        {
          "output_type": "stream",
          "name": "stdout",
          "text": [
            "\n",
            "Accuracy: 0.77\n",
            "\n",
            "Class p1:\n",
            "Precision: 0.8233404710920771\n",
            "Recall: 0.7583826429980276\n",
            "F1 Score: 0.7895277207392196\n",
            "\n",
            "Class p2:\n",
            "Precision: 0.8222460658082976\n",
            "Recall: 0.9113974231912785\n",
            "F1 Score: 0.8645294725956567\n",
            "\n",
            "Class p3:\n",
            "Precision: 0.45298165137614677\n",
            "Recall: 0.2981132075471698\n",
            "F1 Score: 0.35958124715521167\n",
            "\n",
            "Class p4:\n",
            "Precision: 0.7320197044334975\n",
            "Recall: 0.7220602526724975\n",
            "F1 Score: 0.7270058708414873\n",
            "\n"
          ]
        }
      ]
    }
  ]
}